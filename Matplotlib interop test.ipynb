{
 "metadata": {
  "name": "",
  "signature": "sha256:d0272827d0b75bee78e3cf628fd3766707e04e0d353cf2870105f939908139e3"
 },
 "nbformat": 3,
 "nbformat_minor": 0,
 "worksheets": [
  {
   "cells": [
    {
     "cell_type": "code",
     "collapsed": false,
     "input": [
      "mpl.output_file??"
     ],
     "language": "python",
     "metadata": {},
     "outputs": [],
     "prompt_number": 4
    },
    {
     "cell_type": "code",
     "collapsed": false,
     "input": [
      "import numpy as np\n",
      "import pandas as pd\n",
      "import seaborn as sns\n",
      "from bokeh.resources import CDN\n",
      "import bokeh.plotting as bk\n",
      "from bokeh import mpl\n",
      "from bokeh import embed\n",
      "# bk.output_notebook()\n",
      "\n",
      "import matplotlib.pyplot as plt\n",
      "from bokeh import pyplot\n",
      "\n",
      "# Generate the pandas dataframe\n",
      "data = np.random.multivariate_normal([0, 0], [[1, 2], [2, 20]], size=100)\n",
      "data = pd.DataFrame(data, columns=[\"X\", \"Y\"])\n",
      "\n",
      "# Just plot seaborn kde\n",
      "sns.kdeplot(data, cmap=\"BuGn_d\")\n",
      "plt.title(\"Seaborn kdeplot in bokeh.\")\n",
      "plt.axis('off')\n",
      "\n",
      "mpl.to_bokeh(plt.gcf(), name=\"seaborn_kde\")"
     ],
     "language": "python",
     "metadata": {},
     "outputs": [],
     "prompt_number": 6
    }
   ],
   "metadata": {}
  }
 ]
}