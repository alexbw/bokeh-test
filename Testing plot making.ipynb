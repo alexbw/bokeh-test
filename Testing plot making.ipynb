{
 "metadata": {
  "name": "",
  "signature": "sha256:34de12cc97fb353e110e160b120863d328ab19a4a83bca6a1265bae28f70daf7"
 },
 "nbformat": 3,
 "nbformat_minor": 0,
 "worksheets": [
  {
   "cells": [
    {
     "cell_type": "code",
     "collapsed": false,
     "input": [
      "# http://bokeh.pydata.org/en/latest/docs/user_guide/embedding.html?highlight=components"
     ],
     "language": "python",
     "metadata": {},
     "outputs": [],
     "prompt_number": 63
    },
    {
     "cell_type": "code",
     "collapsed": false,
     "input": [
      "from bokeh.resources import CDN\n",
      "import bokeh.plotting as bk\n",
      "from bokeh import embed\n",
      "bk.output_notebook()\n",
      "N = 100\n",
      "\n",
      "x = np.linspace(0, 10, N)\n",
      "y = np.linspace(0, 10, N)\n",
      "xx, yy = np.meshgrid(x, y)\n",
      "d = np.sin(xx)*np.cos(yy)\n",
      "\n",
      "p = bk.Figure(x_range=[0, 10], \n",
      "              y_range=[0, 10], \n",
      "              min_border_bottom=0, \n",
      "              min_border_top=15, \n",
      "              min_border_right=20, \n",
      "              min_border_left=30, \n",
      "              plot_height=300, \n",
      "              plot_width=300, \n",
      "              logo=None, \n",
      "              toolbar_location=None, \n",
      "              title=None)\n",
      "p.image(image=[d], x=[0], y=[0], dw=[10], dh=[10], palette=\"Spectral11\")\n",
      "bk.show()\n",
      "html = embed.file_html(p, CDN, \"My Plot\")\n",
      "with open(\"test.html\", \"wt\") as f:\n",
      "    f.write(html)"
     ],
     "language": "python",
     "metadata": {},
     "outputs": [],
     "prompt_number": 8
    },
    {
     "cell_type": "code",
     "collapsed": false,
     "input": [
      "script, div = embed.components(p, CDN)"
     ],
     "language": "python",
     "metadata": {},
     "outputs": [],
     "prompt_number": 15
    },
    {
     "cell_type": "code",
     "collapsed": false,
     "input": [
      "from bokeh.plotting import circle\n",
      "from bokeh.embed import notebook_div\n",
      "\n",
      "plot = circle([1,2], [3,4])\n",
      "\n",
      "div = notebook_div(plot)\n"
     ],
     "language": "python",
     "metadata": {},
     "outputs": [],
     "prompt_number": 7
    }
   ],
   "metadata": {}
  }
 ]
}